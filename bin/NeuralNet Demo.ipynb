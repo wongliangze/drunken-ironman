{
 "metadata": {
  "name": "",
  "signature": "sha256:ddf01c1831966fc6b665b25b98588b25fa6816e042828b6419068dc3e050a19b"
 },
 "nbformat": 3,
 "nbformat_minor": 0,
 "worksheets": [
  {
   "cells": [
    {
     "cell_type": "markdown",
     "metadata": {},
     "source": [
      "# NeuralNet Demo\n",
      "### v0.1.0"
     ]
    },
    {
     "cell_type": "code",
     "collapsed": false,
     "input": [
      "from __future__ import division\n",
      "import numpy as np\n",
      "from NeuralNet import Core"
     ],
     "language": "python",
     "metadata": {},
     "outputs": [],
     "prompt_number": 1
    },
    {
     "cell_type": "markdown",
     "metadata": {},
     "source": [
      "We will create an autoencoder with 7 visible units and 2 hidden units. We'll use a random dataset of 50 samples.\n",
      "\n",
      "## Size parameters and datasets\n",
      "\n",
      "Since this is an autoencoder, `Target_data` will be the same as `Input_data`. But for your own purposes, you could set them as different datasets."
     ]
    },
    {
     "cell_type": "code",
     "collapsed": false,
     "input": [
      "visible_size = 7\n",
      "hidden_size = 2\n",
      "samples = 50\n",
      "\n",
      "Input_data = np.random.rand(samples,visible_size)\n",
      "Target_data = Input_data"
     ],
     "language": "python",
     "metadata": {},
     "outputs": [],
     "prompt_number": 2
    },
    {
     "cell_type": "markdown",
     "metadata": {},
     "source": [
      "Let's also generate test datasets for cross validation."
     ]
    },
    {
     "cell_type": "code",
     "collapsed": false,
     "input": [
      "Test_data = np.random.rand(samples,visible_size)\n",
      "Test_target = Test_data"
     ],
     "language": "python",
     "metadata": {},
     "outputs": [],
     "prompt_number": 3
    },
    {
     "cell_type": "markdown",
     "metadata": {},
     "source": [
      "## Network structure\n",
      "\n",
      "First, we define the structure of our network.\n",
      "\n",
      "Our network will have $n$=2 layers.\n",
      "\n",
      "`block_sizes` will be a list of $n$ + 1 = 3 lists. This specifies the number of nodes in each block in each layer. Don't worry about what a block is. For now, each layer only has 1 block.\n",
      "\n",
      "`transfers` will be a list of $n$ lists. This specifies the transfer functions for each layer."
     ]
    },
    {
     "cell_type": "code",
     "collapsed": false,
     "input": [
      "block_sizes = [[visible_size],[hidden_size],[visible_size]]\n",
      "transfers = [['logistic'],['logistic']]"
     ],
     "language": "python",
     "metadata": {},
     "outputs": [],
     "prompt_number": 4
    },
    {
     "cell_type": "markdown",
     "metadata": {},
     "source": [
      "## Cost functions\n",
      "\n",
      "Next, we define the cost functions that we want to include.\n",
      "\n",
      "Here, `DK` refers to decay weights on the $W$ matrices, `KL_logistic` is the sparsity function, and `MSE` is the mean-squared error. \n",
      "\n",
      "`costs0` will be costs defined on the 1st layer's parameters and output, while `costs1` are costs defined on the 2nd layer's parameters and output."
     ]
    },
    {
     "cell_type": "code",
     "collapsed": false,
     "input": [
      "sparse_rate = 0.1\n",
      "sparse_weight = 0.5\n",
      "decay_weight = 0.6\n",
      "\n",
      "costs0 = [    \n",
      "    {'name': 'DK',  'weight':decay_weight, 'in_id': 0, 'out_id':0},    \n",
      "    {'name': 'KL_logistic', 'weight': sparse_weight, 'out_id':0, 'xparams':{'sparse_rate':sparse_rate}},    \n",
      "]\n",
      "costs1 = [\n",
      "    {'name': 'MSE', 'weight': 1., 'out_id': 0},\n",
      "    {'name': 'DK',  'weight':decay_weight, 'in_id': 0, 'out_id':0},\n",
      "]\n",
      "\n",
      "costs = [costs0, costs1]"
     ],
     "language": "python",
     "metadata": {},
     "outputs": [],
     "prompt_number": 5
    },
    {
     "cell_type": "markdown",
     "metadata": {},
     "source": [
      "## Initializing a Neural Net\n",
      "\n",
      "With this info, we can initialize our network:"
     ]
    },
    {
     "cell_type": "code",
     "collapsed": false,
     "input": [
      "net = Core.Net.init_by_size(block_sizes,transfers,costs)"
     ],
     "language": "python",
     "metadata": {},
     "outputs": [],
     "prompt_number": 6
    },
    {
     "cell_type": "markdown",
     "metadata": {},
     "source": [
      "Before training, let's check that the gradient function is correct. If so, we should expect a very small number."
     ]
    },
    {
     "cell_type": "code",
     "collapsed": false,
     "input": [
      "net.testgrad(Input_data,Target_data)"
     ],
     "language": "python",
     "metadata": {},
     "outputs": [
      {
       "output_type": "stream",
       "stream": "stdout",
       "text": [
        "Computing numgrad... 37 dimensions... could take 1.44300127029 seconds\n",
        "Relative diff (numgrad vs costgrad): 1.1511197167e-06"
       ]
      },
      {
       "output_type": "stream",
       "stream": "stdout",
       "text": [
        "\n"
       ]
      },
      {
       "metadata": {},
       "output_type": "pyout",
       "prompt_number": 7,
       "text": [
        "1.1511197167047344e-06"
       ]
      }
     ],
     "prompt_number": 7
    },
    {
     "cell_type": "markdown",
     "metadata": {},
     "source": [
      "## Training\n",
      "\n",
      "Finally, we can train our net."
     ]
    },
    {
     "cell_type": "code",
     "collapsed": false,
     "input": [
      "progress_list = net.fit(Input_data, Target_data, Test_data = Test_data , Test_target = Test_target , \n",
      "                        save_name = 'Test.p', save_iters = 2, total_iters = 10)"
     ],
     "language": "python",
     "metadata": {},
     "outputs": [
      {
       "output_type": "stream",
       "stream": "stdout",
       "text": [
        "Fitting...\n",
        "Epoch     Time                Cost                Score               \n",
        "0.0       0.0                 2.39490119392       0.311261679149      \n",
        "2.0       0.00600004196167    0.464778916921      0.292301016971      \n",
        "4.0       0.0150001049042     0.302274653756      0.300605065769      "
       ]
      },
      {
       "output_type": "stream",
       "stream": "stdout",
       "text": [
        "\n",
        "6.0       0.0240001678467     0.291257882892      0.300485591279      \n",
        "8.0       0.0340001583099     0.290967932739      0.300547121045      \n",
        "10.0      0.0410001277924     0.290902839368      0.300555986034      "
       ]
      },
      {
       "output_type": "stream",
       "stream": "stdout",
       "text": [
        "\n",
        "12.0      0.047000169754      0.290884457462      0.300504557899      \n",
        "Maximum iterations reached.\n"
       ]
      }
     ],
     "prompt_number": 8
    },
    {
     "cell_type": "markdown",
     "metadata": {},
     "source": [
      "## Tracking progress\n",
      "\n",
      "`Cost` is the value of the cost function evaluated on `Input_data`, while `Score` is the value of the score function (`MSE` by default) evaluated on `Test_data`.\n",
      "\n",
      "By returning the output of `net.fit()` to `progress_list`, we can track the progress of training.\n",
      "\n",
      "Notice that the training did not converge (`Maximum iterations reached.`).\n",
      "\n",
      "We can pass `progress_list` back into `net.fit()` to continue tracking the progress."
     ]
    },
    {
     "cell_type": "code",
     "collapsed": false,
     "input": [
      "progress_list = net.fit(Input_data, Target_data, Test_data = Test_data , Test_target = Test_target , \n",
      "                        save_name = 'Test.p', save_iters = 2, total_iters = 50, progress_list = progress_list)"
     ],
     "language": "python",
     "metadata": {},
     "outputs": [
      {
       "output_type": "stream",
       "stream": "stdout",
       "text": [
        "Fitting...\n",
        "Epoch     Time                Cost                Score               \n",
        "12.0      0.047000169754      0.290886391693      0.300504557899      \n",
        "14.0      0.058000087738      0.290880909496      0.30050767155       \n",
        "16.0      0.0650000572205     0.290879404239      0.300545042777      \n",
        "18.0      0.0720000267029     0.290879077506      0.300542223096      "
       ]
      },
      {
       "output_type": "stream",
       "stream": "stdout",
       "text": [
        "\n",
        "20.0      0.0789999961853     0.290878961824      0.300521280669      \n",
        "22.0      0.0869998931885     0.290878932672      0.300522485706      \n",
        "24.0      0.0929999351501     0.290878924066      0.30052884505       "
       ]
      },
      {
       "output_type": "stream",
       "stream": "stdout",
       "text": [
        "\n",
        "26.0      0.095999956131      0.29087892125       0.30052884505       \n",
        "Converged!\n"
       ]
      }
     ],
     "prompt_number": 9
    },
    {
     "cell_type": "markdown",
     "metadata": {},
     "source": [
      "`progress_list` stores the breakdown of the cost, so we can monitor how each component changes. We'll use `pandas` to convert `progress_list` into a DataFrame."
     ]
    },
    {
     "cell_type": "code",
     "collapsed": false,
     "input": [
      "import pandas as pd\n",
      "progress = pd.DataFrame(progress_list)\n",
      "progress"
     ],
     "language": "python",
     "metadata": {},
     "outputs": [
      {
       "output_type": "stream",
       "stream": "stderr",
       "text": [
        "C:\\Anaconda\\lib\\site-packages\\pandas\\io\\excel.py:626: UserWarning: Installed openpyxl is not supported at this time. Use >=1.6.1 and <2.0.0.\n",
        "  .format(openpyxl_compat.start_ver, openpyxl_compat.stop_ver))\n"
       ]
      },
      {
       "html": [
        "<div style=\"max-height:1000px;max-width:1500px;overflow:auto;\">\n",
        "<table border=\"1\" class=\"dataframe\">\n",
        "  <thead>\n",
        "    <tr style=\"text-align: right;\">\n",
        "      <th></th>\n",
        "      <th>0.0:0 DK</th>\n",
        "      <th>0.:0 KL_logistic</th>\n",
        "      <th>1.0:0 DK</th>\n",
        "      <th>1.:0 MSE</th>\n",
        "      <th>cost</th>\n",
        "      <th>epoch</th>\n",
        "      <th>score</th>\n",
        "      <th>time</th>\n",
        "    </tr>\n",
        "  </thead>\n",
        "  <tbody>\n",
        "    <tr>\n",
        "      <th>0 </th>\n",
        "      <td> 6.242982e-01</td>\n",
        "      <td> 2.551881e-01</td>\n",
        "      <td> 1.167332e+00</td>\n",
        "      <td> 0.348083</td>\n",
        "      <td> 2.394901</td>\n",
        "      <td>  0</td>\n",
        "      <td> 0.311262</td>\n",
        "      <td> 0.000</td>\n",
        "    </tr>\n",
        "    <tr>\n",
        "      <th>1 </th>\n",
        "      <td> 3.872647e-02</td>\n",
        "      <td> 9.166119e-02</td>\n",
        "      <td> 9.959337e-04</td>\n",
        "      <td> 0.292675</td>\n",
        "      <td> 0.464779</td>\n",
        "      <td>  2</td>\n",
        "      <td> 0.292301</td>\n",
        "      <td> 0.006</td>\n",
        "    </tr>\n",
        "    <tr>\n",
        "      <th>2 </th>\n",
        "      <td> 4.220414e-04</td>\n",
        "      <td> 7.496262e-04</td>\n",
        "      <td> 2.914714e-04</td>\n",
        "      <td> 0.290879</td>\n",
        "      <td> 0.302275</td>\n",
        "      <td>  4</td>\n",
        "      <td> 0.300605</td>\n",
        "      <td> 0.015</td>\n",
        "    </tr>\n",
        "    <tr>\n",
        "      <th>3 </th>\n",
        "      <td> 5.350948e-05</td>\n",
        "      <td> 2.736407e-04</td>\n",
        "      <td> 9.529546e-08</td>\n",
        "      <td> 0.290879</td>\n",
        "      <td> 0.291258</td>\n",
        "      <td>  6</td>\n",
        "      <td> 0.300486</td>\n",
        "      <td> 0.024</td>\n",
        "    </tr>\n",
        "    <tr>\n",
        "      <th>4 </th>\n",
        "      <td> 3.464541e-05</td>\n",
        "      <td> 5.380455e-05</td>\n",
        "      <td> 5.261802e-06</td>\n",
        "      <td> 0.290879</td>\n",
        "      <td> 0.290968</td>\n",
        "      <td>  8</td>\n",
        "      <td> 0.300547</td>\n",
        "      <td> 0.034</td>\n",
        "    </tr>\n",
        "    <tr>\n",
        "      <th>5 </th>\n",
        "      <td> 3.292840e-06</td>\n",
        "      <td> 1.759205e-05</td>\n",
        "      <td> 2.288306e-10</td>\n",
        "      <td> 0.290879</td>\n",
        "      <td> 0.290903</td>\n",
        "      <td> 10</td>\n",
        "      <td> 0.300556</td>\n",
        "      <td> 0.041</td>\n",
        "    </tr>\n",
        "    <tr>\n",
        "      <th>6 </th>\n",
        "      <td> 2.849356e-06</td>\n",
        "      <td> 4.462816e-06</td>\n",
        "      <td> 2.857983e-08</td>\n",
        "      <td> 0.290879</td>\n",
        "      <td> 0.290884</td>\n",
        "      <td> 12</td>\n",
        "      <td> 0.300505</td>\n",
        "      <td> 0.047</td>\n",
        "    </tr>\n",
        "    <tr>\n",
        "      <th>7 </th>\n",
        "      <td> 2.686891e-07</td>\n",
        "      <td> 1.394173e-06</td>\n",
        "      <td> 2.090865e-10</td>\n",
        "      <td> 0.290879</td>\n",
        "      <td> 0.290881</td>\n",
        "      <td> 14</td>\n",
        "      <td> 0.300508</td>\n",
        "      <td> 0.058</td>\n",
        "    </tr>\n",
        "    <tr>\n",
        "      <th>8 </th>\n",
        "      <td> 2.259774e-07</td>\n",
        "      <td> 2.692216e-07</td>\n",
        "      <td> 3.979219e-10</td>\n",
        "      <td> 0.290879</td>\n",
        "      <td> 0.290879</td>\n",
        "      <td> 16</td>\n",
        "      <td> 0.300545</td>\n",
        "      <td> 0.065</td>\n",
        "    </tr>\n",
        "    <tr>\n",
        "      <th>9 </th>\n",
        "      <td> 1.524984e-08</td>\n",
        "      <td> 7.289145e-08</td>\n",
        "      <td> 1.165272e-10</td>\n",
        "      <td> 0.290879</td>\n",
        "      <td> 0.290879</td>\n",
        "      <td> 18</td>\n",
        "      <td> 0.300542</td>\n",
        "      <td> 0.072</td>\n",
        "    </tr>\n",
        "    <tr>\n",
        "      <th>10</th>\n",
        "      <td> 1.713230e-08</td>\n",
        "      <td> 4.042519e-09</td>\n",
        "      <td> 4.184447e-11</td>\n",
        "      <td> 0.290879</td>\n",
        "      <td> 0.290879</td>\n",
        "      <td> 20</td>\n",
        "      <td> 0.300521</td>\n",
        "      <td> 0.079</td>\n",
        "    </tr>\n",
        "    <tr>\n",
        "      <th>11</th>\n",
        "      <td> 1.065659e-10</td>\n",
        "      <td> 6.292100e-11</td>\n",
        "      <td> 2.444054e-11</td>\n",
        "      <td> 0.290879</td>\n",
        "      <td> 0.290879</td>\n",
        "      <td> 22</td>\n",
        "      <td> 0.300522</td>\n",
        "      <td> 0.087</td>\n",
        "    </tr>\n",
        "    <tr>\n",
        "      <th>12</th>\n",
        "      <td> 2.587618e-10</td>\n",
        "      <td> 1.780054e-11</td>\n",
        "      <td> 5.566587e-13</td>\n",
        "      <td> 0.290879</td>\n",
        "      <td> 0.290879</td>\n",
        "      <td> 24</td>\n",
        "      <td> 0.300529</td>\n",
        "      <td> 0.093</td>\n",
        "    </tr>\n",
        "    <tr>\n",
        "      <th>13</th>\n",
        "      <td> 2.587618e-10</td>\n",
        "      <td> 1.780054e-11</td>\n",
        "      <td> 5.566587e-13</td>\n",
        "      <td> 0.290879</td>\n",
        "      <td> 0.290879</td>\n",
        "      <td> 26</td>\n",
        "      <td> 0.300529</td>\n",
        "      <td> 0.096</td>\n",
        "    </tr>\n",
        "  </tbody>\n",
        "</table>\n",
        "</div>"
       ],
       "metadata": {},
       "output_type": "pyout",
       "prompt_number": 10,
       "text": [
        "        0.0:0 DK  0.:0 KL_logistic      1.0:0 DK  1.:0 MSE      cost  epoch  \\\n",
        "0   6.242982e-01      2.551881e-01  1.167332e+00  0.348083  2.394901      0   \n",
        "1   3.872647e-02      9.166119e-02  9.959337e-04  0.292675  0.464779      2   \n",
        "2   4.220414e-04      7.496262e-04  2.914714e-04  0.290879  0.302275      4   \n",
        "3   5.350948e-05      2.736407e-04  9.529546e-08  0.290879  0.291258      6   \n",
        "4   3.464541e-05      5.380455e-05  5.261802e-06  0.290879  0.290968      8   \n",
        "5   3.292840e-06      1.759205e-05  2.288306e-10  0.290879  0.290903     10   \n",
        "6   2.849356e-06      4.462816e-06  2.857983e-08  0.290879  0.290884     12   \n",
        "7   2.686891e-07      1.394173e-06  2.090865e-10  0.290879  0.290881     14   \n",
        "8   2.259774e-07      2.692216e-07  3.979219e-10  0.290879  0.290879     16   \n",
        "9   1.524984e-08      7.289145e-08  1.165272e-10  0.290879  0.290879     18   \n",
        "10  1.713230e-08      4.042519e-09  4.184447e-11  0.290879  0.290879     20   \n",
        "11  1.065659e-10      6.292100e-11  2.444054e-11  0.290879  0.290879     22   \n",
        "12  2.587618e-10      1.780054e-11  5.566587e-13  0.290879  0.290879     24   \n",
        "13  2.587618e-10      1.780054e-11  5.566587e-13  0.290879  0.290879     26   \n",
        "\n",
        "       score   time  \n",
        "0   0.311262  0.000  \n",
        "1   0.292301  0.006  \n",
        "2   0.300605  0.015  \n",
        "3   0.300486  0.024  \n",
        "4   0.300547  0.034  \n",
        "5   0.300556  0.041  \n",
        "6   0.300505  0.047  \n",
        "7   0.300508  0.058  \n",
        "8   0.300545  0.065  \n",
        "9   0.300542  0.072  \n",
        "10  0.300521  0.079  \n",
        "11  0.300522  0.087  \n",
        "12  0.300529  0.093  \n",
        "13  0.300529  0.096  "
       ]
      }
     ],
     "prompt_number": 10
    },
    {
     "cell_type": "code",
     "collapsed": false,
     "input": [
      "breakdown_cols = [col for col in progress.columns if col not in ['cost', 'epoch','score','time']]\n",
      "progress[breakdown_cols].plot(kind=\"area\",stacked=False)"
     ],
     "language": "python",
     "metadata": {},
     "outputs": [
      {
       "metadata": {},
       "output_type": "pyout",
       "prompt_number": 11,
       "text": [
        "<matplotlib.axes.AxesSubplot at 0x1401d320>"
       ]
      },
      {
       "metadata": {},
       "output_type": "display_data",
       "png": "[encoded data removed]",
       "text": [
        "<matplotlib.figure.Figure at 0x14011a58>"
       ]
      }
     ],
     "prompt_number": 11
    },
    {
     "cell_type": "code",
     "collapsed": false,
     "input": [
      "progress[['cost', 'score']].plot()"
     ],
     "language": "python",
     "metadata": {},
     "outputs": [
      {
       "metadata": {},
       "output_type": "pyout",
       "prompt_number": 12,
       "text": [
        "<matplotlib.axes.AxesSubplot at 0x140286a0>"
       ]
      },
      {
       "metadata": {},
       "output_type": "display_data",
       "png": "[encoded data removed]",
       "text": [
        "<matplotlib.figure.Figure at 0x14164048>"
       ]
      }
     ],
     "prompt_number": 12
    },
    {
     "cell_type": "markdown",
     "metadata": {},
     "source": [
      "From these graphs, we see that the mean-squared-error isn't really going down, which is to be expected, since we fed in random data. These plots are useful in helping you decide how to adjust your weights (`sparse_weight`,`decay_weight` etc.).\n",
      "\n",
      "## Loading and saving\n",
      "\n",
      "`NeuralNet.Utils` contains useful functions for loading and save `Net` objects.\n",
      "\n",
      "`net.fit()` automatically saves the net to `save_name`, which we set to `Test.p` above. We can reload it and test if the nets are the same."
     ]
    },
    {
     "cell_type": "code",
     "collapsed": false,
     "input": [
      "from NeuralNet import Utils\n",
      "\n",
      "net2 = Utils.load_net('Test.p')\n",
      "\n",
      "print net.score(Input_data,Target_data)\n",
      "print net2.score(Input_data,Target_data)"
     ],
     "language": "python",
     "metadata": {},
     "outputs": [
      {
       "output_type": "stream",
       "stream": "stdout",
       "text": [
        "0.290878920973\n",
        "0.290878920973\n"
       ]
      }
     ],
     "prompt_number": 13
    },
    {
     "cell_type": "markdown",
     "metadata": {},
     "source": [
      "## That's all for now!\n",
      "\n",
      "Future versions will include:\n",
      "\n",
      "* Better documentation\n",
      "* Default networks for the autoencoder, multimodal fusion, and missing data.\n",
      "* Greedy-layerwise pre-training\n",
      "* Normalization\n",
      "* Additional display functionalities"
     ]
    },
    {
     "cell_type": "code",
     "collapsed": false,
     "input": [],
     "language": "python",
     "metadata": {},
     "outputs": []
    }
   ],
   "metadata": {}
  }
 ]
}